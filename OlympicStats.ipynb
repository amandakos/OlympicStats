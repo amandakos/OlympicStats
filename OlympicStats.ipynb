{
 "cells": [
  {
   "cell_type": "markdown",
   "id": "f565851b",
   "metadata": {},
   "source": [
    "# Fun with Statistics"
   ]
  },
  {
   "cell_type": "markdown",
   "id": "57993966",
   "metadata": {},
   "source": [
    "## Import packages (there are quite a few to run several statistical analysis)"
   ]
  },
  {
   "cell_type": "code",
   "execution_count": 12,
   "id": "b71f121f",
   "metadata": {},
   "outputs": [],
   "source": [
    "import pandas as pd\n",
    "import numpy as np\n",
    "import scipy\n",
    "from scipy import stats\n",
    "from scipy.stats import norm\n",
    "from scipy.stats import stats\n",
    "from scipy.stats import ttest_ind\n",
    "from scipy.stats import chi2_contingency\n",
    "import matplotlib.pyplot as plt\n",
    "import seaborn as sns\n",
    "from scipy.stats import ttest_1samp"
   ]
  },
  {
   "cell_type": "markdown",
   "id": "3fff0341",
   "metadata": {},
   "source": [
    "## Import Data"
   ]
  },
  {
   "cell_type": "code",
   "execution_count": 4,
   "id": "d07e2037",
   "metadata": {},
   "outputs": [],
   "source": [
    "olympicEvents = pd.read_csv('olympicEvents.csv')"
   ]
  },
  {
   "cell_type": "code",
   "execution_count": 5,
   "id": "d6f8f394",
   "metadata": {},
   "outputs": [
    {
     "data": {
      "text/html": [
       "<div>\n",
       "<style scoped>\n",
       "    .dataframe tbody tr th:only-of-type {\n",
       "        vertical-align: middle;\n",
       "    }\n",
       "\n",
       "    .dataframe tbody tr th {\n",
       "        vertical-align: top;\n",
       "    }\n",
       "\n",
       "    .dataframe thead th {\n",
       "        text-align: right;\n",
       "    }\n",
       "</style>\n",
       "<table border=\"1\" class=\"dataframe\">\n",
       "  <thead>\n",
       "    <tr style=\"text-align: right;\">\n",
       "      <th></th>\n",
       "      <th>ID</th>\n",
       "      <th>Name</th>\n",
       "      <th>Sex</th>\n",
       "      <th>Age</th>\n",
       "      <th>Height</th>\n",
       "      <th>Weight</th>\n",
       "      <th>Team</th>\n",
       "      <th>NOC</th>\n",
       "      <th>Games</th>\n",
       "      <th>Year</th>\n",
       "      <th>Season</th>\n",
       "      <th>City</th>\n",
       "      <th>Sport</th>\n",
       "      <th>Event</th>\n",
       "      <th>Medal</th>\n",
       "    </tr>\n",
       "  </thead>\n",
       "  <tbody>\n",
       "    <tr>\n",
       "      <th>0</th>\n",
       "      <td>1</td>\n",
       "      <td>A Dijiang</td>\n",
       "      <td>M</td>\n",
       "      <td>24.0</td>\n",
       "      <td>180.0</td>\n",
       "      <td>80.0</td>\n",
       "      <td>China</td>\n",
       "      <td>CHN</td>\n",
       "      <td>1992 Summer</td>\n",
       "      <td>1992</td>\n",
       "      <td>Summer</td>\n",
       "      <td>Barcelona</td>\n",
       "      <td>Basketball</td>\n",
       "      <td>Basketball Men's Basketball</td>\n",
       "      <td>NaN</td>\n",
       "    </tr>\n",
       "    <tr>\n",
       "      <th>1</th>\n",
       "      <td>2</td>\n",
       "      <td>A Lamusi</td>\n",
       "      <td>M</td>\n",
       "      <td>23.0</td>\n",
       "      <td>170.0</td>\n",
       "      <td>60.0</td>\n",
       "      <td>China</td>\n",
       "      <td>CHN</td>\n",
       "      <td>2012 Summer</td>\n",
       "      <td>2012</td>\n",
       "      <td>Summer</td>\n",
       "      <td>London</td>\n",
       "      <td>Judo</td>\n",
       "      <td>Judo Men's Extra-Lightweight</td>\n",
       "      <td>NaN</td>\n",
       "    </tr>\n",
       "    <tr>\n",
       "      <th>2</th>\n",
       "      <td>3</td>\n",
       "      <td>Gunnar Nielsen Aaby</td>\n",
       "      <td>M</td>\n",
       "      <td>24.0</td>\n",
       "      <td>NaN</td>\n",
       "      <td>NaN</td>\n",
       "      <td>Denmark</td>\n",
       "      <td>DEN</td>\n",
       "      <td>1920 Summer</td>\n",
       "      <td>1920</td>\n",
       "      <td>Summer</td>\n",
       "      <td>Antwerpen</td>\n",
       "      <td>Football</td>\n",
       "      <td>Football Men's Football</td>\n",
       "      <td>NaN</td>\n",
       "    </tr>\n",
       "    <tr>\n",
       "      <th>3</th>\n",
       "      <td>4</td>\n",
       "      <td>Edgar Lindenau Aabye</td>\n",
       "      <td>M</td>\n",
       "      <td>34.0</td>\n",
       "      <td>NaN</td>\n",
       "      <td>NaN</td>\n",
       "      <td>Denmark/Sweden</td>\n",
       "      <td>DEN</td>\n",
       "      <td>1900 Summer</td>\n",
       "      <td>1900</td>\n",
       "      <td>Summer</td>\n",
       "      <td>Paris</td>\n",
       "      <td>Tug-Of-War</td>\n",
       "      <td>Tug-Of-War Men's Tug-Of-War</td>\n",
       "      <td>Gold</td>\n",
       "    </tr>\n",
       "    <tr>\n",
       "      <th>4</th>\n",
       "      <td>5</td>\n",
       "      <td>Christine Jacoba Aaftink</td>\n",
       "      <td>F</td>\n",
       "      <td>21.0</td>\n",
       "      <td>185.0</td>\n",
       "      <td>82.0</td>\n",
       "      <td>Netherlands</td>\n",
       "      <td>NED</td>\n",
       "      <td>1988 Winter</td>\n",
       "      <td>1988</td>\n",
       "      <td>Winter</td>\n",
       "      <td>Calgary</td>\n",
       "      <td>Speed Skating</td>\n",
       "      <td>Speed Skating Women's 500 metres</td>\n",
       "      <td>NaN</td>\n",
       "    </tr>\n",
       "  </tbody>\n",
       "</table>\n",
       "</div>"
      ],
      "text/plain": [
       "   ID                      Name Sex   Age  Height  Weight            Team  \\\n",
       "0   1                 A Dijiang   M  24.0   180.0    80.0           China   \n",
       "1   2                  A Lamusi   M  23.0   170.0    60.0           China   \n",
       "2   3       Gunnar Nielsen Aaby   M  24.0     NaN     NaN         Denmark   \n",
       "3   4      Edgar Lindenau Aabye   M  34.0     NaN     NaN  Denmark/Sweden   \n",
       "4   5  Christine Jacoba Aaftink   F  21.0   185.0    82.0     Netherlands   \n",
       "\n",
       "   NOC        Games  Year  Season       City          Sport  \\\n",
       "0  CHN  1992 Summer  1992  Summer  Barcelona     Basketball   \n",
       "1  CHN  2012 Summer  2012  Summer     London           Judo   \n",
       "2  DEN  1920 Summer  1920  Summer  Antwerpen       Football   \n",
       "3  DEN  1900 Summer  1900  Summer      Paris     Tug-Of-War   \n",
       "4  NED  1988 Winter  1988  Winter    Calgary  Speed Skating   \n",
       "\n",
       "                              Event Medal  \n",
       "0       Basketball Men's Basketball   NaN  \n",
       "1      Judo Men's Extra-Lightweight   NaN  \n",
       "2           Football Men's Football   NaN  \n",
       "3       Tug-Of-War Men's Tug-Of-War  Gold  \n",
       "4  Speed Skating Women's 500 metres   NaN  "
      ]
     },
     "execution_count": 5,
     "metadata": {},
     "output_type": "execute_result"
    }
   ],
   "source": [
    "olympicEvents.head()"
   ]
  },
  {
   "cell_type": "markdown",
   "id": "d0b2776e",
   "metadata": {},
   "source": [
    "## Data Wrangling"
   ]
  },
  {
   "cell_type": "code",
   "execution_count": 6,
   "id": "38ac9c6a",
   "metadata": {},
   "outputs": [],
   "source": [
    "olympicEvents.dropna(inplace=True)"
   ]
  },
  {
   "cell_type": "markdown",
   "id": "0937f142",
   "metadata": {},
   "source": [
    "## Single Sample t-Test"
   ]
  },
  {
   "cell_type": "markdown",
   "id": "d60bb8ec",
   "metadata": {},
   "source": [
    "### Is the average age different from 22?"
   ]
  },
  {
   "cell_type": "markdown",
   "id": "5e97dd68",
   "metadata": {},
   "source": [
    "### Test Assumptions - Is the data normally distributed?"
   ]
  },
  {
   "cell_type": "code",
   "execution_count": 8,
   "id": "3063ac0d",
   "metadata": {},
   "outputs": [
    {
     "data": {
      "text/plain": [
       "<Axes: >"
      ]
     },
     "execution_count": 8,
     "metadata": {},
     "output_type": "execute_result"
    },
    {
     "data": {
      "image/png": "[encoded data removed]",
      "text/plain": [
       "<Figure size 640x480 with 1 Axes>"
      ]
     },
     "metadata": {},
     "output_type": "display_data"
    }
   ],
   "source": [
    "olympicEvents['Age'].hist()"
   ]
  },
  {
   "cell_type": "markdown",
   "id": "f9163d4a",
   "metadata": {},
   "source": [
    "### Not perfectly normal, but decent. So proceeding."
   ]
  },
  {
   "cell_type": "markdown",
   "id": "3bd509fc",
   "metadata": {},
   "source": [
    "## Run the analysis"
   ]
  },
  {
   "cell_type": "markdown",
   "id": "2373bbdb",
   "metadata": {},
   "source": [
    "### First a single sample t-test"
   ]
  },
  {
   "cell_type": "code",
   "execution_count": 11,
   "id": "95edbbd7",
   "metadata": {},
   "outputs": [
    {
     "name": "stderr",
     "output_type": "stream",
     "text": [
      "C:\\Users\\Amanda\\AppData\\Local\\Temp\\ipykernel_25936\\2102114920.py:1: DeprecationWarning: Please use `ttest_1samp` from the `scipy.stats` namespace, the `scipy.stats.stats` namespace is deprecated.\n",
      "  stats.ttest_1samp(olympicEvents['Age'], 22)\n"
     ]
    },
    {
     "data": {
      "text/plain": [
       "TtestResult(statistic=117.96999514411488, pvalue=0.0, df=30180)"
      ]
     },
     "execution_count": 11,
     "metadata": {},
     "output_type": "execute_result"
    }
   ],
   "source": [
    "stats.ttest_1samp(olympicEvents['Age'], 22)"
   ]
  },
  {
   "cell_type": "markdown",
   "id": "a4a3184f",
   "metadata": {},
   "source": [
    "### Deprication warning. Need to import ttest_1samp from scipy.stats and rerun to have the code for later use."
   ]
  },
  {
   "cell_type": "code",
   "execution_count": 13,
   "id": "91f9449f",
   "metadata": {},
   "outputs": [
    {
     "data": {
      "text/plain": [
       "TtestResult(statistic=117.96999514411488, pvalue=0.0, df=30180)"
      ]
     },
     "execution_count": 13,
     "metadata": {},
     "output_type": "execute_result"
    }
   ],
   "source": [
    "ttest_1samp(olympicEvents['Age'],22)"
   ]
  },
  {
   "cell_type": "markdown",
   "id": "74b172bd",
   "metadata": {},
   "source": [
    "### The p-value of 0 means that there is significant difference from 22."
   ]
  },
  {
   "cell_type": "code",
   "execution_count": 14,
   "id": "1e3fa6ee",
   "metadata": {},
   "outputs": [
    {
     "data": {
      "text/plain": [
       "25.42901162983334"
      ]
     },
     "execution_count": 14,
     "metadata": {},
     "output_type": "execute_result"
    }
   ],
   "source": [
    "olympicEvents.Age.mean()"
   ]
  },
  {
   "cell_type": "markdown",
   "id": "e46be874",
   "metadata": {},
   "source": [
    "### Calculating the mean shows that the average age is actually significantly higher than 22 at 25.4."
   ]
  },
  {
   "cell_type": "markdown",
   "id": "7928e411",
   "metadata": {},
   "source": [
    "### Now, an Independent t-test"
   ]
  },
  {
   "cell_type": "markdown",
   "id": "f0f7c93f",
   "metadata": {},
   "source": [
    "### Does the average age differ between men and women?"
   ]
  },
  {
   "cell_type": "markdown",
   "id": "cc47106f",
   "metadata": {},
   "source": [
    "### Test Assumptions - Normally Distributed (First male then female)"
   ]
  },
  {
   "cell_type": "code",
   "execution_count": 15,
   "id": "01477e79",
   "metadata": {},
   "outputs": [
    {
     "data": {
      "text/plain": [
       "<Axes: >"
      ]
     },
     "execution_count": 15,
     "metadata": {},
     "output_type": "execute_result"
    },
    {
     "data": {
      "image/png": "[encoded data removed]",
      "text/plain": [
       "<Figure size 640x480 with 1 Axes>"
      ]
     },
     "metadata": {},
     "output_type": "display_data"
    }
   ],
   "source": [
    "olympicEvents.Age[olympicEvents.Sex == 'M'].hist()"
   ]
  },
  {
   "cell_type": "code",
   "execution_count": 16,
   "id": "bdcd2200",
   "metadata": {},
   "outputs": [
    {
     "data": {
      "text/plain": [
       "<Axes: >"
      ]
     },
     "execution_count": 16,
     "metadata": {},
     "output_type": "execute_result"
    },
    {
     "data": {
      "image/png": "[encoded data removed]",
      "text/plain": [
       "<Figure size 640x480 with 1 Axes>"
      ]
     },
     "metadata": {},
     "output_type": "display_data"
    }
   ],
   "source": [
    "olympicEvents.Age[olympicEvents.Sex == 'F'].hist()"
   ]
  },
  {
   "cell_type": "markdown",
   "id": "d1ab4983",
   "metadata": {},
   "source": [
    "### Both look halfway decent. So proceeding."
   ]
  },
  {
   "cell_type": "markdown",
   "id": "9c294ebe",
   "metadata": {},
   "source": [
    "## Run Analysis"
   ]
  },
  {
   "cell_type": "code",
   "execution_count": 17,
   "id": "b23f64a4",
   "metadata": {},
   "outputs": [
    {
     "data": {
      "text/plain": [
       "Ttest_indResult(statistic=20.811905071131516, pvalue=1.5853311644818236e-95)"
      ]
     },
     "execution_count": 17,
     "metadata": {},
     "output_type": "execute_result"
    }
   ],
   "source": [
    "ttest_ind(olympicEvents.Age[olympicEvents.Sex == 'M'], olympicEvents.Age[olympicEvents.Sex == 'F'] )"
   ]
  },
  {
   "cell_type": "markdown",
   "id": "22913ce3",
   "metadata": {},
   "source": [
    "### The p-vlaue is extremely small, therefore there is difference."
   ]
  },
  {
   "cell_type": "code",
   "execution_count": 18,
   "id": "87d3c0a0",
   "metadata": {},
   "outputs": [
    {
     "data": {
      "text/plain": [
       "Sex\n",
       "F    24.597585\n",
       "M    25.862942\n",
       "Name: Age, dtype: float64"
      ]
     },
     "execution_count": 18,
     "metadata": {},
     "output_type": "execute_result"
    }
   ],
   "source": [
    "olympicEvents.groupby('Sex')['Age'].mean()"
   ]
  },
  {
   "cell_type": "markdown",
   "id": "0a4dc683",
   "metadata": {},
   "source": [
    "### Looks like the average age for females is 24.6, while the average age for males is 25.9."
   ]
  },
  {
   "cell_type": "markdown",
   "id": "f2080c52",
   "metadata": {},
   "source": [
    "## Indpendent Chi-square"
   ]
  },
  {
   "cell_type": "markdown",
   "id": "d28e0540",
   "metadata": {},
   "source": [
    "### Create a cross-tab first to see if the season influences the type of medal"
   ]
  },
  {
   "cell_type": "code",
   "execution_count": 19,
   "id": "01e8148f",
   "metadata": {},
   "outputs": [
    {
     "data": {
      "text/html": [
       "<div>\n",
       "<style scoped>\n",
       "    .dataframe tbody tr th:only-of-type {\n",
       "        vertical-align: middle;\n",
       "    }\n",
       "\n",
       "    .dataframe tbody tr th {\n",
       "        vertical-align: top;\n",
       "    }\n",
       "\n",
       "    .dataframe thead th {\n",
       "        text-align: right;\n",
       "    }\n",
       "</style>\n",
       "<table border=\"1\" class=\"dataframe\">\n",
       "  <thead>\n",
       "    <tr style=\"text-align: right;\">\n",
       "      <th>Medal</th>\n",
       "      <th>Bronze</th>\n",
       "      <th>Gold</th>\n",
       "      <th>Silver</th>\n",
       "    </tr>\n",
       "    <tr>\n",
       "      <th>Season</th>\n",
       "      <th></th>\n",
       "      <th></th>\n",
       "      <th></th>\n",
       "    </tr>\n",
       "  </thead>\n",
       "  <tbody>\n",
       "    <tr>\n",
       "      <th>Summer</th>\n",
       "      <td>8566</td>\n",
       "      <td>8542</td>\n",
       "      <td>8233</td>\n",
       "    </tr>\n",
       "    <tr>\n",
       "      <th>Winter</th>\n",
       "      <td>1582</td>\n",
       "      <td>1625</td>\n",
       "      <td>1633</td>\n",
       "    </tr>\n",
       "  </tbody>\n",
       "</table>\n",
       "</div>"
      ],
      "text/plain": [
       "Medal   Bronze  Gold  Silver\n",
       "Season                      \n",
       "Summer    8566  8542    8233\n",
       "Winter    1582  1625    1633"
      ]
     },
     "execution_count": 19,
     "metadata": {},
     "output_type": "execute_result"
    }
   ],
   "source": [
    "crosstab = pd.crosstab(olympicEvents['Season'], olympicEvents['Medal'])\n",
    "crosstab"
   ]
  },
  {
   "cell_type": "code",
   "execution_count": 21,
   "id": "3b515a29",
   "metadata": {},
   "outputs": [
    {
     "data": {
      "text/plain": [
       "Chi2ContingencyResult(statistic=3.4745101681496746, pvalue=0.17600285120006448, dof=2, expected_freq=array([[8520.60793214, 8536.56098207, 8283.83108578],\n",
       "       [1627.39206786, 1630.43901793, 1582.16891422]]))"
      ]
     },
     "execution_count": 21,
     "metadata": {},
     "output_type": "execute_result"
    }
   ],
   "source": [
    "chi2_contingency(crosstab)"
   ]
  },
  {
   "cell_type": "markdown",
   "id": "581b5d38",
   "metadata": {},
   "source": [
    "### Looking at the p-value, there does not appear to be a relation in season with expected medals."
   ]
  },
  {
   "cell_type": "markdown",
   "id": "a3743bb7",
   "metadata": {},
   "source": [
    "## Correlation"
   ]
  },
  {
   "cell_type": "code",
   "execution_count": 22,
   "id": "4c489b2c",
   "metadata": {},
   "outputs": [
    {
     "data": {
      "text/plain": [
       "0.8018308248560181"
      ]
     },
     "execution_count": 22,
     "metadata": {},
     "output_type": "execute_result"
    }
   ],
   "source": [
    "olympicEvents['Height'].corr(olympicEvents['Weight'])"
   ]
  },
  {
   "cell_type": "markdown",
   "id": "8890ce72",
   "metadata": {},
   "source": [
    "## Both variables go up together (positive number) and the number is relatively high, so there is a strong correlation between height and weight."
   ]
  },
  {
   "cell_type": "markdown",
   "id": "42a17729",
   "metadata": {},
   "source": [
    "### Visual relationship"
   ]
  },
  {
   "cell_type": "code",
   "execution_count": 25,
   "id": "e93932e5",
   "metadata": {},
   "outputs": [
    {
     "data": {
      "text/plain": [
       "<Axes: >"
      ]
     },
     "execution_count": 25,
     "metadata": {},
     "output_type": "execute_result"
    },
    {
     "data": {
      "image/png": "[encoded data removed]",
      "text/plain": [
       "<Figure size 640x480 with 2 Axes>"
      ]
     },
     "metadata": {},
     "output_type": "display_data"
    }
   ],
   "source": [
    "sns.heatmap(olympicEvents.corr(numeric_only=True), annot=True)"
   ]
  },
  {
   "cell_type": "markdown",
   "id": "6013b176",
   "metadata": {},
   "source": [
    "### Age and ID really don't mean antyhing, but we do see the height-weigth correlation here. Not much else looks to be of interest."
   ]
  },
  {
   "cell_type": "code",
   "execution_count": null,
   "id": "808bad8f",
   "metadata": {},
   "outputs": [],
   "source": []
  }
 ],
 "metadata": {
  "kernelspec": {
   "display_name": "Python 3 (ipykernel)",
   "language": "python",
   "name": "python3"
  },
  "language_info": {
   "codemirror_mode": {
    "name": "ipython",
    "version": 3
   },
   "file_extension": ".py",
   "mimetype": "text/x-python",
   "name": "python",
   "nbconvert_exporter": "python",
   "pygments_lexer": "ipython3",
   "version": "3.10.9"
  }
 },
 "nbformat": 4,
 "nbformat_minor": 5
}
